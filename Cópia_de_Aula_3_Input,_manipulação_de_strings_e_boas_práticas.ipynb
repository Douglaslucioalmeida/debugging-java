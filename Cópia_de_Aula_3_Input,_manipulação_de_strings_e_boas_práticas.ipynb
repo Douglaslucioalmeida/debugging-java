{
  "nbformat": 4,
  "nbformat_minor": 0,
  "metadata": {
    "colab": {
      "provenance": [],
      "collapsed_sections": [
        "CkKxSBcwiN-S",
        "_i48kgnNVcDO",
        "fMIF3jB1b_Di",
        "DkkD8jL0gciY",
        "eB995qA7do2c",
        "W0yn0H5HUaRe"
      ],
      "include_colab_link": true
    },
    "kernelspec": {
      "name": "python3",
      "display_name": "Python 3"
    },
    "language_info": {
      "name": "python"
    }
  },
  "cells": [
    {
      "cell_type": "markdown",
      "metadata": {
        "id": "view-in-github",
        "colab_type": "text"
      },
      "source": [
        "<a href=\"https://colab.research.google.com/github/Douglaslucioalmeida/debugging-java/blob/master/C%C3%B3pia_de_Aula_3_Input%2C_manipula%C3%A7%C3%A3o_de_strings_e_boas_pr%C3%A1ticas.ipynb\" target=\"_parent\"><img src=\"https://colab.research.google.com/assets/colab-badge.svg\" alt=\"Open In Colab\"/></a>"
      ]
    },
    {
      "cell_type": "markdown",
      "source": [
        "# Aula 3 - Input, manipulação de strings e boas práticas\n",
        "\n",
        "\n",
        "*   Manipulação de String\n",
        "*   Input()\n",
        "*   Boas Práticas\n",
        "*   Exercícios\n",
        "\n",
        "\n",
        "https://docs.python.org/3/library/index.html\n",
        "\n",
        "\n",
        "\n"
      ],
      "metadata": {
        "id": "CkKxSBcwiN-S"
      }
    },
    {
      "cell_type": "markdown",
      "source": [
        "## Função Input()"
      ],
      "metadata": {
        "id": "_i48kgnNVcDO"
      }
    },
    {
      "cell_type": "markdown",
      "source": [
        "A função input é usada para coletar informações dos usuarios, para que possamos salver em variaveis e depois manipular.  "
      ],
      "metadata": {
        "id": "iAb8dDjjVkgV"
      }
    },
    {
      "cell_type": "markdown",
      "source": [
        "comando <font color=blue> input()"
      ],
      "metadata": {
        "id": "mAYBZhxoV4Zd"
      }
    },
    {
      "cell_type": "markdown",
      "source": [
        "Coletando informação de nome."
      ],
      "metadata": {
        "id": "vY5V8-fJXY9-"
      }
    },
    {
      "cell_type": "code",
      "source": [
        "nome = input('Digite o seu nome: ')"
      ],
      "metadata": {
        "id": "QxSW-9GaVi12",
        "colab": {
          "base_uri": "https://localhost:8080/"
        },
        "outputId": "225c9fb2-7e12-437f-fdd6-34566e4a9258"
      },
      "execution_count": null,
      "outputs": [
        {
          "name": "stdout",
          "output_type": "stream",
          "text": [
            "Digite o seu nome: Douglas\n"
          ]
        }
      ]
    },
    {
      "cell_type": "code",
      "source": [
        "nome"
      ],
      "metadata": {
        "id": "BcX-Yz-XXtZm",
        "colab": {
          "base_uri": "https://localhost:8080/",
          "height": 36
        },
        "outputId": "7764f86d-6d38-47cc-a4c4-1f1452d038a1"
      },
      "execution_count": null,
      "outputs": [
        {
          "output_type": "execute_result",
          "data": {
            "text/plain": [
              "'Douglas'"
            ],
            "application/vnd.google.colaboratory.intrinsic+json": {
              "type": "string"
            }
          },
          "metadata": {},
          "execution_count": 2
        }
      ]
    },
    {
      "cell_type": "markdown",
      "source": [
        "Use o comando input para coletar o ano de nascimento do usuario e armazenar como variavel ano_de_nascimento"
      ],
      "metadata": {
        "id": "AiaFKo0jX-19"
      }
    },
    {
      "cell_type": "code",
      "source": [
        "ano_de_nascimento = int(input('Digite o seu ano de nascimento: '))"
      ],
      "metadata": {
        "id": "MRaZK8JeYDtc"
      },
      "execution_count": null,
      "outputs": []
    },
    {
      "cell_type": "code",
      "source": [
        "ano_de_nascimento"
      ],
      "metadata": {
        "id": "awvVcws8YbuK"
      },
      "execution_count": null,
      "outputs": []
    },
    {
      "cell_type": "code",
      "source": [
        "type(ano_de_nascimento)"
      ],
      "metadata": {
        "id": "IxvAUVgMYiWm"
      },
      "execution_count": null,
      "outputs": []
    },
    {
      "cell_type": "markdown",
      "source": [
        "Converter de String para Int"
      ],
      "metadata": {
        "id": "hgF5UnPxY8Wv"
      }
    },
    {
      "cell_type": "code",
      "source": [
        "ano_de_nascimento = int(input('Digite aqui seu ano de nascimento: '))"
      ],
      "metadata": {
        "id": "fgy3ldcmaIEZ"
      },
      "execution_count": null,
      "outputs": []
    },
    {
      "cell_type": "code",
      "source": [
        "type(ano_de_nascimento)"
      ],
      "metadata": {
        "id": "ZU9BSqiLaTl5"
      },
      "execution_count": null,
      "outputs": []
    },
    {
      "cell_type": "markdown",
      "source": [
        "## Manipulação de String"
      ],
      "metadata": {
        "id": "fMIF3jB1b_Di"
      }
    },
    {
      "cell_type": "code",
      "source": [
        "nome = '  Douglas  '"
      ],
      "metadata": {
        "id": "4tkS8Iit1Ccg"
      },
      "execution_count": null,
      "outputs": []
    },
    {
      "cell_type": "markdown",
      "source": [
        "upper() - CONVERTER UMA STRING PARA LETRAS MAIUSCULAS"
      ],
      "metadata": {
        "id": "iVTAD8q702eN"
      }
    },
    {
      "cell_type": "code",
      "source": [
        "nome.upper()"
      ],
      "metadata": {
        "id": "QXo-rc_6z-0R",
        "colab": {
          "base_uri": "https://localhost:8080/",
          "height": 36
        },
        "outputId": "33efdc62-438e-4ead-ae9d-b385910c2b00"
      },
      "execution_count": null,
      "outputs": [
        {
          "output_type": "execute_result",
          "data": {
            "text/plain": [
              "'  DOUGLAS  '"
            ],
            "application/vnd.google.colaboratory.intrinsic+json": {
              "type": "string"
            }
          },
          "metadata": {},
          "execution_count": 4
        }
      ]
    },
    {
      "cell_type": "markdown",
      "source": [
        "lower() - converter uma string para letras minusculas"
      ],
      "metadata": {
        "id": "hbDSBtMV1TpG"
      }
    },
    {
      "cell_type": "code",
      "source": [
        "nome.lower()"
      ],
      "metadata": {
        "id": "sfzZHgX50CTe"
      },
      "execution_count": null,
      "outputs": []
    },
    {
      "cell_type": "markdown",
      "source": [
        "replace() - Substitui todas as ocorrências do texto \"antigo\" na string por \"novo\""
      ],
      "metadata": {
        "id": "m6notiyS1SCV"
      }
    },
    {
      "cell_type": "code",
      "source": [
        "nome.replace('a', '@')"
      ],
      "metadata": {
        "id": "N9EqhYtP0GY2"
      },
      "execution_count": null,
      "outputs": []
    },
    {
      "cell_type": "markdown",
      "source": [
        "strip() - Retirar espaços no inicio e no final da string"
      ],
      "metadata": {
        "id": "kz47eWM11gii"
      }
    },
    {
      "cell_type": "code",
      "source": [
        "nome.strip()"
      ],
      "metadata": {
        "id": "rrOEbuNR0D0a"
      },
      "execution_count": null,
      "outputs": []
    },
    {
      "cell_type": "markdown",
      "source": [
        "Até então nada foi alterado de fato no texto"
      ],
      "metadata": {
        "id": "lS-FvgRseMK0"
      }
    },
    {
      "cell_type": "code",
      "source": [
        "nome"
      ],
      "metadata": {
        "id": "OL4bTf8F0LBc",
        "colab": {
          "base_uri": "https://localhost:8080/",
          "height": 36
        },
        "outputId": "d808c3c7-e5ea-4051-b704-76519fe22725"
      },
      "execution_count": null,
      "outputs": [
        {
          "output_type": "execute_result",
          "data": {
            "text/plain": [
              "'  Douglas  '"
            ],
            "application/vnd.google.colaboratory.intrinsic+json": {
              "type": "string"
            }
          },
          "metadata": {},
          "execution_count": 5
        }
      ]
    },
    {
      "cell_type": "markdown",
      "source": [
        "Para que seja executada a transformação nós podemos atribuir às saídas das transformações à variável"
      ],
      "metadata": {
        "id": "1KbwfVut2h6I"
      }
    },
    {
      "cell_type": "code",
      "source": [
        "nome = nome.strip().replace('A','@').upper()\n",
        "nome"
      ],
      "metadata": {
        "id": "CITYq50i0OlA",
        "colab": {
          "base_uri": "https://localhost:8080/",
          "height": 36
        },
        "outputId": "f8ce39c9-0c87-4186-fa12-31ba2b71da48"
      },
      "execution_count": null,
      "outputs": [
        {
          "output_type": "execute_result",
          "data": {
            "text/plain": [
              "'DOUGLAS'"
            ],
            "application/vnd.google.colaboratory.intrinsic+json": {
              "type": "string"
            }
          },
          "metadata": {},
          "execution_count": 6
        }
      ]
    },
    {
      "cell_type": "markdown",
      "source": [
        "Tratamento de entradas de texto"
      ],
      "metadata": {
        "id": "HBd42wuV5AqV"
      }
    },
    {
      "cell_type": "code",
      "source": [
        "nome = input(\"Digite seu nome: \").strip().lower()\n",
        "nome"
      ],
      "metadata": {
        "id": "LldITgSO5LLt",
        "colab": {
          "base_uri": "https://localhost:8080/",
          "height": 53
        },
        "outputId": "d7c69990-9d79-4774-aafa-f415e0447b97"
      },
      "execution_count": null,
      "outputs": [
        {
          "name": "stdout",
          "output_type": "stream",
          "text": [
            "Digite seu nome:  D o u g l a s   \n"
          ]
        },
        {
          "output_type": "execute_result",
          "data": {
            "text/plain": [
              "'d o u g l a s'"
            ],
            "application/vnd.google.colaboratory.intrinsic+json": {
              "type": "string"
            }
          },
          "metadata": {},
          "execution_count": 13
        }
      ]
    },
    {
      "cell_type": "code",
      "source": [
        "texto = \"  Olá     Mundo    Python  \"\n",
        "\n",
        "texto_limpo = ' '.join(texto.split())\n",
        "\n",
        "texto_limpo"
      ],
      "metadata": {
        "id": "mdRx8VM954SY",
        "colab": {
          "base_uri": "https://localhost:8080/",
          "height": 36
        },
        "outputId": "5a3d900e-ff4e-4656-eb5d-d1c8f102507b"
      },
      "execution_count": null,
      "outputs": [
        {
          "output_type": "execute_result",
          "data": {
            "text/plain": [
              "'Olá Mundo Python'"
            ],
            "application/vnd.google.colaboratory.intrinsic+json": {
              "type": "string"
            }
          },
          "metadata": {},
          "execution_count": 1
        }
      ]
    },
    {
      "cell_type": "code",
      "source": [
        "texto1 = \" teste     de junção\"\n",
        "texto_junto = \"\".join(texto1.split())\n",
        "texto_junto"
      ],
      "metadata": {
        "colab": {
          "base_uri": "https://localhost:8080/",
          "height": 36
        },
        "id": "FB9HeJBB1Q59",
        "outputId": "bd70bd67-aba5-4db0-dc84-33abfcc5a44a"
      },
      "execution_count": null,
      "outputs": [
        {
          "output_type": "execute_result",
          "data": {
            "text/plain": [
              "'testedejunção'"
            ],
            "application/vnd.google.colaboratory.intrinsic+json": {
              "type": "string"
            }
          },
          "metadata": {},
          "execution_count": 13
        }
      ]
    },
    {
      "cell_type": "markdown",
      "source": [
        "## Boas Práticas"
      ],
      "metadata": {
        "id": "DkkD8jL0gciY"
      }
    },
    {
      "cell_type": "markdown",
      "source": [
        "PEP8\n",
        "\n",
        "https://peps.python.org/pep-0008/"
      ],
      "metadata": {
        "id": "s7qgo8YAhc2R"
      }
    },
    {
      "cell_type": "markdown",
      "source": [
        "Evitar linhas com muitos caracteres"
      ],
      "metadata": {
        "id": "oYOTWZKx8IWW"
      }
    },
    {
      "cell_type": "code",
      "source": [
        "mensagem = \"Este é um exemplo de uma linha que está dentro do limite recomendado do PEP 8.\"\n",
        "len(mensagem)"
      ],
      "metadata": {
        "id": "penWfqff8Dtv"
      },
      "execution_count": null,
      "outputs": []
    },
    {
      "cell_type": "markdown",
      "source": [
        "Deixar espaços entre os valores"
      ],
      "metadata": {
        "id": "57kALDLv8apd"
      }
    },
    {
      "cell_type": "code",
      "source": [
        "a = 10\n",
        "b = 20\n",
        "soma = a + b"
      ],
      "metadata": {
        "id": "s4zrHush8aCm"
      },
      "execution_count": null,
      "outputs": []
    },
    {
      "cell_type": "markdown",
      "source": [
        "Espaços após as virgulas"
      ],
      "metadata": {
        "id": "UOJ3YcjB8hdA"
      }
    },
    {
      "cell_type": "code",
      "source": [
        "lista = [1, 2, 3, 4]"
      ],
      "metadata": {
        "id": "xMwpnv8N8k72"
      },
      "execution_count": null,
      "outputs": []
    },
    {
      "cell_type": "markdown",
      "source": [
        "*   snake_case para variáveis, funções e métodos;\n",
        "*   PascalCase para classes;"
      ],
      "metadata": {
        "id": "mWqJ0U8Ng8p8"
      }
    },
    {
      "cell_type": "code",
      "source": [
        "# snake_case\n",
        "valor_final\n",
        "\n",
        "# PascalCase\n",
        "ValorFinal"
      ],
      "metadata": {
        "id": "Ic9MM4BJggha"
      },
      "execution_count": null,
      "outputs": []
    },
    {
      "cell_type": "markdown",
      "source": [
        "##Exemplos"
      ],
      "metadata": {
        "id": "eB995qA7do2c"
      }
    },
    {
      "cell_type": "markdown",
      "source": [
        "1) Instruções para coletar dois números e informar o resultado da soma."
      ],
      "metadata": {
        "id": "aejMaJvwdug7"
      }
    },
    {
      "cell_type": "code",
      "source": [
        "# Colher do usuário dois números\n",
        "\n",
        "numero1 = int(input('Digite o valor do primeiro numero: '))\n",
        "numero2 = int(input('Digite o valor do segundo numero: '))\n",
        "\n",
        "# Calcular a soma\n",
        "soma = numero1 + numero2\n",
        "\n",
        "# Imprimir resultado\n",
        "\n",
        "print(f'A soma dos dois núemros é: {soma}')"
      ],
      "metadata": {
        "id": "v4-u4nBUui-c"
      },
      "execution_count": null,
      "outputs": []
    },
    {
      "cell_type": "markdown",
      "source": [
        "2) Tirar a média de 3 notas de prova"
      ],
      "metadata": {
        "id": "GNwEn82Chon2"
      }
    },
    {
      "cell_type": "code",
      "source": [
        "# Entrar com as notas das 3 provas\n",
        "\n",
        "nota1 = float(input('Digite o valor da primeira nota: '))\n",
        "nota2 = float(input('Digite o valor da segunda nota: '))\n",
        "nota3 = float(input('Digite o valor da terceira nota: '))\n",
        "\n",
        "# Calcular a média\n",
        "media = (nota1 + nota2 + nota3)/3\n",
        "\n",
        "# Imprimir resultado\n",
        "\n",
        "print(f'A média das 3 notas é :  {media}')"
      ],
      "metadata": {
        "id": "_vRp3h-vul50"
      },
      "execution_count": null,
      "outputs": []
    },
    {
      "cell_type": "markdown",
      "source": [
        "Média através da Biblioteca Statistics"
      ],
      "metadata": {
        "id": "NGcvt8ouUtKn"
      }
    },
    {
      "cell_type": "markdown",
      "source": [
        "https://docs.python.org/pt-br/3/library/statistics.html"
      ],
      "metadata": {
        "id": "I0N2pg0Yq9JW"
      }
    },
    {
      "cell_type": "code",
      "source": [
        "#importar biblioteca\n",
        "\n",
        "import statistics as sta\n",
        "\n",
        "# Entrar com as notas das 3 provas\n",
        "\n",
        "nota1 = float(input('Digite o valor da primeira nota: '))\n",
        "nota2 = float(input('Digite o valor da segunda nota: '))\n",
        "nota3 = float(input('Digite o valor da terceira nota: '))\n",
        "\n",
        "# Calcular a média\n",
        "\n",
        "media2 = sta.mean({nota1, nota2, nota3})\n",
        "\n",
        "\n",
        "\n",
        "# Imprimir resultado\n",
        "\n",
        "print(f'A média das 3 notas é :  {media2}')\n",
        "\n"
      ],
      "metadata": {
        "id": "dzTYJYvLupTU"
      },
      "execution_count": null,
      "outputs": []
    },
    {
      "cell_type": "markdown",
      "source": [
        "3) Nota máxima."
      ],
      "metadata": {
        "id": "UZi-sqdUqAhl"
      }
    },
    {
      "cell_type": "code",
      "source": [
        "max(nota1, nota2, nota2)"
      ],
      "metadata": {
        "id": "7-PewGMMuqdr"
      },
      "execution_count": null,
      "outputs": []
    },
    {
      "cell_type": "markdown",
      "source": [
        "4) Nota mínima"
      ],
      "metadata": {
        "id": "iZXtuZmpqU9k"
      }
    },
    {
      "cell_type": "code",
      "source": [
        "min(nota1, nota2, nota3)"
      ],
      "metadata": {
        "id": "774ISwaEurhs"
      },
      "execution_count": null,
      "outputs": []
    },
    {
      "cell_type": "markdown",
      "source": [
        "## Exercícios"
      ],
      "metadata": {
        "id": "W0yn0H5HUaRe"
      }
    },
    {
      "cell_type": "markdown",
      "source": [
        "1) Crie um programa que colha um raio do usuário e calcule a área de um circulo a partir do raio informado.\n",
        "\n",
        "Dica: Pesquisar na internet a formula usada para calcular a area através da constante Pi, e aplicar no algoritimo a função da biblioteca math que traz esse valor.\n",
        "\n",
        "https://docs.python.org/pt-br/3/library/math.html\n",
        "\n"
      ],
      "metadata": {
        "id": "Wg568Xv7INEn"
      }
    },
    {
      "cell_type": "code",
      "source": [
        "\n",
        "#Importar biblioteca math\n",
        "\n",
        "import math as m\n",
        "\n",
        "# Declarar o raio\n",
        "raio = float(input(f'Entre com o raio do círculo: '))\n",
        "\n",
        "# calcular área\n",
        "\n",
        "Area = m.pi * (raio **2)\n",
        "\n",
        "#imprimir o valor da àrea:\n",
        "\n",
        "print(f'O valor da Area do circulo de raio {raio} é: {Area} ')"
      ],
      "metadata": {
        "id": "CxmPfcQtkJBw"
      },
      "execution_count": null,
      "outputs": []
    },
    {
      "cell_type": "markdown",
      "source": [
        "2) Crie um programa que peça ao usuário para inserir o capital inicial, a taxa de juros anual e o tempo (em anos) que o dinheiro será aplicado. O programa deve calcular e exibir o montante final após o período de aplicação usando a fórmula de juros simples.\n",
        "\n",
        "Digite o capital inicial: 1000\n",
        "\n",
        "Digite a taxa de juros anual (em %): 5\n",
        "\n",
        "Digite o tempo de aplicação (em anos): 3\n",
        "\n",
        "O montante final é: 1150.0\n"
      ],
      "metadata": {
        "id": "zAQZCXj9NWLQ"
      }
    },
    {
      "cell_type": "code",
      "source": [
        "#declarar entradas\n",
        "\n",
        "\n",
        "capital_inicial = float(input(f'Digite o valor do capital inicial: '))\n",
        "\n",
        "taxa_de_juros_anual = float(input(f'Digite o valor da taxa de juros: '))\n",
        "\n",
        "tempo_em_anos = float(input(f'Digite o valor do tempo em anos: '))\n",
        "\n",
        "# calcular o juros\n",
        "\n",
        "juros_simples = capital_inicial * taxa_de_juros_anual/100 * tempo_em_anos\n",
        "\n",
        "# Calcular o montante\n",
        "\n",
        "montante = capital_inicial + juros_simples\n",
        "\n",
        "# Imprimir Juros e montante\n",
        "\n",
        "print(f'O juros são de: R$ {juros_simples:.2f}')\n",
        "\n",
        "print(f' O montante final é de: R$ {montante:.2f}')\n",
        "\n"
      ],
      "metadata": {
        "id": "BeKWKPmgqflm"
      },
      "execution_count": null,
      "outputs": []
    },
    {
      "cell_type": "markdown",
      "source": [
        "3) Crie um programa que peça ao usuário para inserir uma temperatura em graus Celsius e a converta para Fahrenheit e Kelvin. O programa deve exibir as duas temperaturas convertidas.\n",
        "\n",
        "![image.png](data:image/png;base64,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)"
      ],
      "metadata": {
        "id": "eTfnCCI2Nh9-"
      }
    },
    {
      "cell_type": "code",
      "source": [
        "# Declarar a temperatura em grau Celsius\n",
        "\n",
        "temperatura_celsius = float(input(f'Digite a temperatura em graus Celsius: '))\n",
        "\n",
        "# Converter para graus Fahrenheit\n",
        "\n",
        "temperatura_fahrenheit = (temperatura_celsius *1.8 ) + 32\n",
        "\n",
        "# Converter para graus Kelvin\n",
        "\n",
        "temperatura_kelvin = temperatura_celsius + 273.15\n",
        "\n",
        "# imprimir graus Fahrenheit\n",
        "\n",
        "print(f'A temperatura em graus Celsius de : {temperatura_celsius} equivalem a: {temperatura_fahrenheit} graus Fahrenheit')\n",
        "\n",
        "# imprimir graus Kelvin\n",
        "\n",
        "print(f'A temperatura em graus Celsius de : {temperatura_celsius} equivalem a: {temperatura_kelvin} graus Kelvin')"
      ],
      "metadata": {
        "id": "pJ6yEknLNN4K",
        "colab": {
          "base_uri": "https://localhost:8080/"
        },
        "outputId": "62f636b9-d165-4e07-bc1a-10fc603abba0"
      },
      "execution_count": null,
      "outputs": [
        {
          "output_type": "stream",
          "name": "stdout",
          "text": [
            "Digite a temperatura em graus Celsius: 25\n",
            "A temperatura em graus Celsius de : 25.0 equivalem a: 77.0 graus Fahrenheit\n",
            "A temperatura em graus Celsius de : 25.0 equivalem a: 298.15 graus Kelvin\n"
          ]
        }
      ]
    },
    {
      "cell_type": "markdown",
      "source": [
        "4) Crie um programa que peça ao usuário para inserir o valor original de um produto e a porcentagem de desconto. O programa deve calcular e exibir o valor do desconto e o valor final do produto.\n",
        "\n",
        "\n",
        "![image.png](data:image/png;base64,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)"
      ],
      "metadata": {
        "id": "9nkZ1ncxNlom"
      }
    },
    {
      "cell_type": "code",
      "source": [
        "# declarar valores\n",
        "\n",
        "valor_original_produto = float(input(f'Valor original do produto R$ : '))\n",
        "\n",
        "porcentagem_de_desconto = float(input(f'Porcentagem de desconto é em %: '))\n",
        "\n",
        "# Calcular Valor do desconto\n",
        "\n",
        "valor_do_desconto = valor_original_produto * porcentagem_de_desconto/100\n",
        "\n",
        "# Calcular valor final do produto\n",
        "\n",
        "valor_final_produto = valor_original_produto - valor_do_desconto\n",
        "\n",
        "\n",
        "# Imprimir Valores\n",
        "\n",
        "print(f'O Valor do desconto é: R$ {valor_do_desconto}')\n",
        "\n",
        "print(f'O valor final do produto é:  R$ {valor_final_produto}')"
      ],
      "metadata": {
        "id": "4OCiNBt5QNVz"
      },
      "execution_count": null,
      "outputs": []
    },
    {
      "cell_type": "markdown",
      "source": [
        "5) Crie um programa que peça ao usuário para inserir o valor total de uma conta de restaurante, a porcentagem de gorjeta que deseja dar, e o número de pessoas para dividir a conta. O programa deve calcular e exibir o valor da gorjeta, o valor total com a gorjeta e quanto cada pessoa deve pagar.\n",
        "\n",
        "![image.png](data:image/png;base64,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)"
      ],
      "metadata": {
        "id": "C4XcAHw5PxeQ"
      }
    },
    {
      "cell_type": "code",
      "source": [
        "#Declarar entradas\n",
        "\n",
        "valor_total_da_conta = float(input('O Valor total da conta é: R$'))\n",
        "\n",
        "valor_porcentagem_da_gorjeta = float(input('O Valor da gorgeja em % é:'))\n",
        "\n",
        "numero_de_pessoas_dividir_conta = float(input('Digite a quantidade de pessoas que irão dividir a conta:'))\n",
        "\n",
        "#Cálculos\n",
        "\n",
        "valor_da_gorjeta = valor_total_da_conta * valor_porcentagem_da_gorjeta/100\n",
        "\n",
        "valor_total_da_conta_com_gorjeta = valor_total_da_conta + valor_da_gorjeta\n",
        "\n",
        "valor_cada_pessoa_deve_pagar = valor_total_da_conta_com_gorjeta / numero_de_pessoas_dividir_conta\n",
        "\n",
        "# imprimir\n",
        "\n",
        "print(f'O Valor total da conta com a gorjeta é: R$ {valor_total_da_conta_com_gorjeta:.2f}')\n",
        "\n",
        "print(f'O valor da gorjeta : {valor_porcentagem_da_gorjeta} %')\n",
        "\n",
        "print(f'Cada pessoa deve pagar R$: {valor_cada_pessoa_deve_pagar:.2f}')\n"
      ],
      "metadata": {
        "id": "Hm0_U8sYOELE",
        "colab": {
          "base_uri": "https://localhost:8080/"
        },
        "outputId": "0b63ed71-dcee-4a77-8fa1-bf85947d94b1"
      },
      "execution_count": null,
      "outputs": [
        {
          "output_type": "stream",
          "name": "stdout",
          "text": [
            "O Valor total da conta é: R$1000\n",
            "O Valor do percentual da gorgeja de:10\n",
            "Digite a quantidade de pessoas que irão dividir a conta:2\n",
            "O Valor total da conta com a gorjeta é: R$ 1100.00\n",
            "O valor da gorjeta : 10.0 %\n",
            "Cada pessoa deve pagar R$: 550.00\n"
          ]
        }
      ]
    }
  ]
}